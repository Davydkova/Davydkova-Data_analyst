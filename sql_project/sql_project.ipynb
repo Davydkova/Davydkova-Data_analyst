{
 "cells": [
  {
   "cell_type": "markdown",
   "id": "9e8d66bb",
   "metadata": {
    "toc": true
   },
   "source": [
    "<h1>Table of Contents<span class=\"tocSkip\"></span></h1>\n",
    "<div class=\"toc\"><ul class=\"toc-item\"><li><span><a href=\"#Проект-SQL\" data-toc-modified-id=\"Проект-SQL-1\"><span class=\"toc-item-num\">1&nbsp;&nbsp;</span>Проект SQL</a></span></li><li><span><a href=\"#Посчитайте,-сколько-книг-вышло-после-1-января-2000-года\" data-toc-modified-id=\"Посчитайте,-сколько-книг-вышло-после-1-января-2000-года-2\"><span class=\"toc-item-num\">2&nbsp;&nbsp;</span>Посчитайте, сколько книг вышло после 1 января 2000 года</a></span></li><li><span><a href=\"#Для-каждой-книги-посчитайте-количество-обзоров-и-среднюю-оценку;\" data-toc-modified-id=\"Для-каждой-книги-посчитайте-количество-обзоров-и-среднюю-оценку;-3\"><span class=\"toc-item-num\">3&nbsp;&nbsp;</span>Для каждой книги посчитайте количество обзоров и среднюю оценку;</a></span></li><li><span><a href=\"#Определите-издательство,-которое-выпустило-наибольшее-число-книг-толще50-страниц-—-так-вы-исключите-из-анализа-брошюры\" data-toc-modified-id=\"Определите-издательство,-которое-выпустило-наибольшее-число-книг-толще50-страниц-—-так-вы-исключите-из-анализа-брошюры-4\"><span class=\"toc-item-num\">4&nbsp;&nbsp;</span>Определите издательство, которое выпустило наибольшее число книг толще50 страниц — так вы исключите из анализа брошюры</a></span></li><li><span><a href=\"#Определите-автора-с-самой-высокой-средней-оценкой-книг-—-учитывайте-только-книги-с-50-и-более-оценками\" data-toc-modified-id=\"Определите-автора-с-самой-высокой-средней-оценкой-книг-—-учитывайте-только-книги-с-50-и-более-оценками-5\"><span class=\"toc-item-num\">5&nbsp;&nbsp;</span>Определите автора с самой высокой средней оценкой книг — учитывайте только книги с 50 и более оценками</a></span></li><li><span><a href=\"#Посчитайте-среднее-количество-обзоров-от-пользователей,-которые-поставили-больше-50-оценок\" data-toc-modified-id=\"Посчитайте-среднее-количество-обзоров-от-пользователей,-которые-поставили-больше-50-оценок-6\"><span class=\"toc-item-num\">6&nbsp;&nbsp;</span>Посчитайте среднее количество обзоров от пользователей, которые поставили больше 50 оценок</a></span></li><li><span><a href=\"#Общий-вывод:\" data-toc-modified-id=\"Общий-вывод:-7\"><span class=\"toc-item-num\">7&nbsp;&nbsp;</span>Общий вывод:</a></span></li></ul></div>"
   ]
  },
  {
   "cell_type": "markdown",
   "id": "f9009a55",
   "metadata": {},
   "source": [
    "## Проект SQL\n",
    "\n"
   ]
  },
  {
   "cell_type": "markdown",
   "id": "d0ae4528",
   "metadata": {},
   "source": [
    "Коронавирус застал мир врасплох, изменив привычный порядок вещей. В\n",
    "свободное время жители городов больше не выходят на улицу, не посещают кафе\n",
    "и торговые центры. Зато стало больше времени для книг. Это заметили\n",
    "стартаперы — и бросились создавать приложения для тех, кто любит читать.\n",
    "Ваша компания решила быть на волне и купила крупный сервис для чтения книг\n",
    "по подписке. Ваша первая задача как аналитика — проанализировать базу\n",
    "данных.\n",
    "\n",
    "В ней — информация о книгах, издательствах, авторах, а также пользовательские\n",
    "обзоры книг. Эти данные помогут сформулировать ценностное предложение для\n",
    "нового продукта.\n",
    "\n",
    "\n",
    "**Спецификация**\n",
    "\n",
    "Таблица books - содержит данные о книгах:\n",
    "\n",
    " - book_id — идентификатор книги;\n",
    " - author_id — идентификатор автора;\n",
    " - title — название книги;\n",
    " - num_pages — количество страниц;\n",
    " - publication_date — дата публикации книги;\n",
    " - publisher_id — идентификатор издателя.\n",
    "\n",
    "Таблица authors- содержит данные об авторах:\n",
    " - author_id — идентификатор автора;\n",
    " - author — имя автора.\n",
    "\n",
    "Таблица publishers -содержит данные об издательствах:\n",
    " - publisher_id — идентификатор издательства;\n",
    " - publisher — название издательства;\n",
    "\n",
    "Таблица ratings - содержит данные о пользовательских оценках книг:\n",
    " - rating_id — идентификатор оценки;\n",
    " - book_id — идентификатор книги;\n",
    " - username — имя пользователя, оставившего оценку;\n",
    " - rating — оценка книги.\n",
    "\n",
    "Таблица reviews -содержит данные о пользовательских обзорах на книги:\n",
    " - review_id — идентификатор обзора;\n",
    " - book_id — идентификатор книги;\n",
    " - username — имя пользователя, написавшего обзор;\n",
    " - text — текст обзора\n",
    " "
   ]
  },
  {
   "cell_type": "markdown",
   "id": "b9eae4db",
   "metadata": {},
   "source": [
    "**Цель исследования**\n",
    "Необходимо ответить на следующие вопросы \n",
    "  - Посчитайте, сколько книг вышло после 1 января 2000 года;\n",
    "  - Для каждой книги посчитайте количество обзоров и среднюю оценку;\n",
    "  - Определите издательство, которое выпустило наибольшее число книг толще 50 страниц — так вы исключите из анализа брошюры;\n",
    "  - Определите автора с самой высокой средней оценкой книг — учитывайте только книги с 50 и более оценками;\n",
    "  - Посчитайте среднее количество обзоров от пользователей, которые поставили больше 50 оценок."
   ]
  },
  {
   "cell_type": "code",
   "execution_count": 1,
   "id": "684e5aab",
   "metadata": {},
   "outputs": [],
   "source": [
    "# импортируем библиотеки\n",
    "import pandas as pd \n",
    "from sqlalchemy import create_engine "
   ]
  },
  {
   "cell_type": "code",
   "execution_count": 2,
   "id": "ac0e9ec9",
   "metadata": {},
   "outputs": [],
   "source": [
    "# устанавливаем параметры\n",
    "db_config = {'user': '******', # имя пользователя\n",
    "             'pwd': '*****', # пароль\n",
    "             'host': '******",
    "             'port': 6432, # порт подключения\n",
    "             'db': '********'} # название базы данных\n",
    "\n",
    "connection_string = 'postgresql://{}:{}@{}:{}/{}'.format(db_config['user'], \n",
    "                                                         db_config['pwd'], \n",
    "                                                         db_config['host'], \n",
    "                                                         db_config['port'], \n",
    "                                                         db_config['db']) \n",
    "# сохраняем коннектор\n",
    "engine = create_engine(connection_string, connect_args={'sslmode':'require'})"
   ]
  },
  {
   "cell_type": "code",
   "execution_count": 3,
   "id": "d52cce8c",
   "metadata": {},
   "outputs": [
    {
     "data": {
      "text/html": [
       "<div>\n",
       "<style scoped>\n",
       "    .dataframe tbody tr th:only-of-type {\n",
       "        vertical-align: middle;\n",
       "    }\n",
       "\n",
       "    .dataframe tbody tr th {\n",
       "        vertical-align: top;\n",
       "    }\n",
       "\n",
       "    .dataframe thead th {\n",
       "        text-align: right;\n",
       "    }\n",
       "</style>\n",
       "<table border=\"1\" class=\"dataframe\">\n",
       "  <thead>\n",
       "    <tr style=\"text-align: right;\">\n",
       "      <th></th>\n",
       "      <th>book_id</th>\n",
       "      <th>author_id</th>\n",
       "      <th>title</th>\n",
       "      <th>num_pages</th>\n",
       "      <th>publication_date</th>\n",
       "      <th>publisher_id</th>\n",
       "    </tr>\n",
       "  </thead>\n",
       "  <tbody>\n",
       "    <tr>\n",
       "      <th>0</th>\n",
       "      <td>1</td>\n",
       "      <td>546</td>\n",
       "      <td>'Salem's Lot</td>\n",
       "      <td>594</td>\n",
       "      <td>2005-11-01</td>\n",
       "      <td>93</td>\n",
       "    </tr>\n",
       "    <tr>\n",
       "      <th>1</th>\n",
       "      <td>2</td>\n",
       "      <td>465</td>\n",
       "      <td>1 000 Places to See Before You Die</td>\n",
       "      <td>992</td>\n",
       "      <td>2003-05-22</td>\n",
       "      <td>336</td>\n",
       "    </tr>\n",
       "    <tr>\n",
       "      <th>2</th>\n",
       "      <td>3</td>\n",
       "      <td>407</td>\n",
       "      <td>13 Little Blue Envelopes (Little Blue Envelope...</td>\n",
       "      <td>322</td>\n",
       "      <td>2010-12-21</td>\n",
       "      <td>135</td>\n",
       "    </tr>\n",
       "    <tr>\n",
       "      <th>3</th>\n",
       "      <td>4</td>\n",
       "      <td>82</td>\n",
       "      <td>1491: New Revelations of the Americas Before C...</td>\n",
       "      <td>541</td>\n",
       "      <td>2006-10-10</td>\n",
       "      <td>309</td>\n",
       "    </tr>\n",
       "    <tr>\n",
       "      <th>4</th>\n",
       "      <td>5</td>\n",
       "      <td>125</td>\n",
       "      <td>1776</td>\n",
       "      <td>386</td>\n",
       "      <td>2006-07-04</td>\n",
       "      <td>268</td>\n",
       "    </tr>\n",
       "  </tbody>\n",
       "</table>\n",
       "</div>"
      ],
      "text/plain": [
       "   book_id  author_id                                              title  \\\n",
       "0        1        546                                       'Salem's Lot   \n",
       "1        2        465                 1 000 Places to See Before You Die   \n",
       "2        3        407  13 Little Blue Envelopes (Little Blue Envelope...   \n",
       "3        4         82  1491: New Revelations of the Americas Before C...   \n",
       "4        5        125                                               1776   \n",
       "\n",
       "   num_pages publication_date  publisher_id  \n",
       "0        594       2005-11-01            93  \n",
       "1        992       2003-05-22           336  \n",
       "2        322       2010-12-21           135  \n",
       "3        541       2006-10-10           309  \n",
       "4        386       2006-07-04           268  "
      ]
     },
     "execution_count": 3,
     "metadata": {},
     "output_type": "execute_result"
    }
   ],
   "source": [
    "# получаем данные таблицы books\n",
    "query = '''\n",
    "            SELECT * FROM books\n",
    "        '''\n",
    "# подключения к базе данных для Sqlite\n",
    "books = pd.io.sql.read_sql(query, con = engine)\n",
    "\n",
    "books.head()"
   ]
  },
  {
   "cell_type": "code",
   "execution_count": 4,
   "id": "0aa3f55c",
   "metadata": {},
   "outputs": [
    {
     "name": "stdout",
     "output_type": "stream",
     "text": [
      "<class 'pandas.core.frame.DataFrame'>\n",
      "RangeIndex: 1000 entries, 0 to 999\n",
      "Data columns (total 6 columns):\n",
      " #   Column            Non-Null Count  Dtype \n",
      "---  ------            --------------  ----- \n",
      " 0   book_id           1000 non-null   int64 \n",
      " 1   author_id         1000 non-null   int64 \n",
      " 2   title             1000 non-null   object\n",
      " 3   num_pages         1000 non-null   int64 \n",
      " 4   publication_date  1000 non-null   object\n",
      " 5   publisher_id      1000 non-null   int64 \n",
      "dtypes: int64(4), object(2)\n",
      "memory usage: 47.0+ KB\n"
     ]
    }
   ],
   "source": [
    "# проверим размерность и пропуски в таблице\n",
    "books.info()"
   ]
  },
  {
   "cell_type": "markdown",
   "id": "a0cce01e",
   "metadata": {},
   "source": [
    "В таблице 1000 строк , пропусков не выявлено"
   ]
  },
  {
   "cell_type": "code",
   "execution_count": 5,
   "id": "9a12af04",
   "metadata": {},
   "outputs": [
    {
     "data": {
      "text/html": [
       "<div>\n",
       "<style scoped>\n",
       "    .dataframe tbody tr th:only-of-type {\n",
       "        vertical-align: middle;\n",
       "    }\n",
       "\n",
       "    .dataframe tbody tr th {\n",
       "        vertical-align: top;\n",
       "    }\n",
       "\n",
       "    .dataframe thead th {\n",
       "        text-align: right;\n",
       "    }\n",
       "</style>\n",
       "<table border=\"1\" class=\"dataframe\">\n",
       "  <thead>\n",
       "    <tr style=\"text-align: right;\">\n",
       "      <th></th>\n",
       "      <th>author_id</th>\n",
       "      <th>author</th>\n",
       "    </tr>\n",
       "  </thead>\n",
       "  <tbody>\n",
       "    <tr>\n",
       "      <th>0</th>\n",
       "      <td>1</td>\n",
       "      <td>A.S. Byatt</td>\n",
       "    </tr>\n",
       "    <tr>\n",
       "      <th>1</th>\n",
       "      <td>2</td>\n",
       "      <td>Aesop/Laura Harris/Laura Gibbs</td>\n",
       "    </tr>\n",
       "    <tr>\n",
       "      <th>2</th>\n",
       "      <td>3</td>\n",
       "      <td>Agatha Christie</td>\n",
       "    </tr>\n",
       "    <tr>\n",
       "      <th>3</th>\n",
       "      <td>4</td>\n",
       "      <td>Alan Brennert</td>\n",
       "    </tr>\n",
       "    <tr>\n",
       "      <th>4</th>\n",
       "      <td>5</td>\n",
       "      <td>Alan Moore/David   Lloyd</td>\n",
       "    </tr>\n",
       "  </tbody>\n",
       "</table>\n",
       "</div>"
      ],
      "text/plain": [
       "   author_id                          author\n",
       "0          1                      A.S. Byatt\n",
       "1          2  Aesop/Laura Harris/Laura Gibbs\n",
       "2          3                 Agatha Christie\n",
       "3          4                   Alan Brennert\n",
       "4          5        Alan Moore/David   Lloyd"
      ]
     },
     "execution_count": 5,
     "metadata": {},
     "output_type": "execute_result"
    }
   ],
   "source": [
    "# получаем данные таблицы \n",
    "query = '''\n",
    "            SELECT * FROM authors\n",
    "        '''\n",
    "# подключения к базе данных для Sqlite\n",
    "authors = pd.io.sql.read_sql(query, con = engine)\n",
    "\n",
    "authors.head()"
   ]
  },
  {
   "cell_type": "code",
   "execution_count": 6,
   "id": "7a438c0c",
   "metadata": {},
   "outputs": [
    {
     "name": "stdout",
     "output_type": "stream",
     "text": [
      "<class 'pandas.core.frame.DataFrame'>\n",
      "RangeIndex: 636 entries, 0 to 635\n",
      "Data columns (total 2 columns):\n",
      " #   Column     Non-Null Count  Dtype \n",
      "---  ------     --------------  ----- \n",
      " 0   author_id  636 non-null    int64 \n",
      " 1   author     636 non-null    object\n",
      "dtypes: int64(1), object(1)\n",
      "memory usage: 10.1+ KB\n"
     ]
    }
   ],
   "source": [
    "# проверим размерность и пропуски в таблице\n",
    "authors.info()"
   ]
  },
  {
   "cell_type": "markdown",
   "id": "76916586",
   "metadata": {},
   "source": [
    "В таблице 636 строки, пропусков не выявлено"
   ]
  },
  {
   "cell_type": "code",
   "execution_count": 7,
   "id": "d7dc1471",
   "metadata": {},
   "outputs": [
    {
     "data": {
      "text/html": [
       "<div>\n",
       "<style scoped>\n",
       "    .dataframe tbody tr th:only-of-type {\n",
       "        vertical-align: middle;\n",
       "    }\n",
       "\n",
       "    .dataframe tbody tr th {\n",
       "        vertical-align: top;\n",
       "    }\n",
       "\n",
       "    .dataframe thead th {\n",
       "        text-align: right;\n",
       "    }\n",
       "</style>\n",
       "<table border=\"1\" class=\"dataframe\">\n",
       "  <thead>\n",
       "    <tr style=\"text-align: right;\">\n",
       "      <th></th>\n",
       "      <th>publisher_id</th>\n",
       "      <th>publisher</th>\n",
       "    </tr>\n",
       "  </thead>\n",
       "  <tbody>\n",
       "    <tr>\n",
       "      <th>0</th>\n",
       "      <td>1</td>\n",
       "      <td>Ace</td>\n",
       "    </tr>\n",
       "    <tr>\n",
       "      <th>1</th>\n",
       "      <td>2</td>\n",
       "      <td>Ace Book</td>\n",
       "    </tr>\n",
       "    <tr>\n",
       "      <th>2</th>\n",
       "      <td>3</td>\n",
       "      <td>Ace Books</td>\n",
       "    </tr>\n",
       "    <tr>\n",
       "      <th>3</th>\n",
       "      <td>4</td>\n",
       "      <td>Ace Hardcover</td>\n",
       "    </tr>\n",
       "    <tr>\n",
       "      <th>4</th>\n",
       "      <td>5</td>\n",
       "      <td>Addison Wesley Publishing Company</td>\n",
       "    </tr>\n",
       "  </tbody>\n",
       "</table>\n",
       "</div>"
      ],
      "text/plain": [
       "   publisher_id                          publisher\n",
       "0             1                                Ace\n",
       "1             2                           Ace Book\n",
       "2             3                          Ace Books\n",
       "3             4                      Ace Hardcover\n",
       "4             5  Addison Wesley Publishing Company"
      ]
     },
     "execution_count": 7,
     "metadata": {},
     "output_type": "execute_result"
    }
   ],
   "source": [
    "# получаем данные таблицы \n",
    "query = '''\n",
    "            SELECT * FROM publishers\n",
    "        '''\n",
    "# подключения к базе данных для Sqlite\n",
    "publishers = pd.io.sql.read_sql(query, con = engine)\n",
    "\n",
    "publishers.head()"
   ]
  },
  {
   "cell_type": "code",
   "execution_count": 8,
   "id": "98b49905",
   "metadata": {},
   "outputs": [
    {
     "name": "stdout",
     "output_type": "stream",
     "text": [
      "<class 'pandas.core.frame.DataFrame'>\n",
      "RangeIndex: 340 entries, 0 to 339\n",
      "Data columns (total 2 columns):\n",
      " #   Column        Non-Null Count  Dtype \n",
      "---  ------        --------------  ----- \n",
      " 0   publisher_id  340 non-null    int64 \n",
      " 1   publisher     340 non-null    object\n",
      "dtypes: int64(1), object(1)\n",
      "memory usage: 5.4+ KB\n"
     ]
    }
   ],
   "source": [
    "# проверим размерность и пропуски в таблице\n",
    "publishers.info()"
   ]
  },
  {
   "cell_type": "markdown",
   "id": "da3b0a46",
   "metadata": {},
   "source": [
    "В таблице 340 строк , пропусков не выявлено"
   ]
  },
  {
   "cell_type": "code",
   "execution_count": 9,
   "id": "b0fcd744",
   "metadata": {},
   "outputs": [
    {
     "data": {
      "text/html": [
       "<div>\n",
       "<style scoped>\n",
       "    .dataframe tbody tr th:only-of-type {\n",
       "        vertical-align: middle;\n",
       "    }\n",
       "\n",
       "    .dataframe tbody tr th {\n",
       "        vertical-align: top;\n",
       "    }\n",
       "\n",
       "    .dataframe thead th {\n",
       "        text-align: right;\n",
       "    }\n",
       "</style>\n",
       "<table border=\"1\" class=\"dataframe\">\n",
       "  <thead>\n",
       "    <tr style=\"text-align: right;\">\n",
       "      <th></th>\n",
       "      <th>rating_id</th>\n",
       "      <th>book_id</th>\n",
       "      <th>username</th>\n",
       "      <th>rating</th>\n",
       "    </tr>\n",
       "  </thead>\n",
       "  <tbody>\n",
       "    <tr>\n",
       "      <th>0</th>\n",
       "      <td>1</td>\n",
       "      <td>1</td>\n",
       "      <td>ryanfranco</td>\n",
       "      <td>4</td>\n",
       "    </tr>\n",
       "    <tr>\n",
       "      <th>1</th>\n",
       "      <td>2</td>\n",
       "      <td>1</td>\n",
       "      <td>grantpatricia</td>\n",
       "      <td>2</td>\n",
       "    </tr>\n",
       "    <tr>\n",
       "      <th>2</th>\n",
       "      <td>3</td>\n",
       "      <td>1</td>\n",
       "      <td>brandtandrea</td>\n",
       "      <td>5</td>\n",
       "    </tr>\n",
       "    <tr>\n",
       "      <th>3</th>\n",
       "      <td>4</td>\n",
       "      <td>2</td>\n",
       "      <td>lorichen</td>\n",
       "      <td>3</td>\n",
       "    </tr>\n",
       "    <tr>\n",
       "      <th>4</th>\n",
       "      <td>5</td>\n",
       "      <td>2</td>\n",
       "      <td>mariokeller</td>\n",
       "      <td>2</td>\n",
       "    </tr>\n",
       "  </tbody>\n",
       "</table>\n",
       "</div>"
      ],
      "text/plain": [
       "   rating_id  book_id       username  rating\n",
       "0          1        1     ryanfranco       4\n",
       "1          2        1  grantpatricia       2\n",
       "2          3        1   brandtandrea       5\n",
       "3          4        2       lorichen       3\n",
       "4          5        2    mariokeller       2"
      ]
     },
     "execution_count": 9,
     "metadata": {},
     "output_type": "execute_result"
    }
   ],
   "source": [
    "# получаем данные таблицы \n",
    "query = '''\n",
    "            SELECT * FROM ratings\n",
    "        '''\n",
    "# подключения к базе данных для Sqlite\n",
    "rating = pd.io.sql.read_sql(query, con = engine)\n",
    "\n",
    "rating.head()"
   ]
  },
  {
   "cell_type": "markdown",
   "id": "fb441aee",
   "metadata": {},
   "source": [
    "В таблице 340 строк , пропусков не выявлено"
   ]
  },
  {
   "cell_type": "code",
   "execution_count": 10,
   "id": "24afeb9b",
   "metadata": {},
   "outputs": [
    {
     "name": "stdout",
     "output_type": "stream",
     "text": [
      "<class 'pandas.core.frame.DataFrame'>\n",
      "RangeIndex: 6456 entries, 0 to 6455\n",
      "Data columns (total 4 columns):\n",
      " #   Column     Non-Null Count  Dtype \n",
      "---  ------     --------------  ----- \n",
      " 0   rating_id  6456 non-null   int64 \n",
      " 1   book_id    6456 non-null   int64 \n",
      " 2   username   6456 non-null   object\n",
      " 3   rating     6456 non-null   int64 \n",
      "dtypes: int64(3), object(1)\n",
      "memory usage: 201.9+ KB\n"
     ]
    }
   ],
   "source": [
    "# проверим размерность и пропуски в таблице\n",
    "rating.info()"
   ]
  },
  {
   "cell_type": "markdown",
   "id": "8576ad8a",
   "metadata": {},
   "source": [
    "В таблице 6456 строк , пропусков не выявлено"
   ]
  },
  {
   "cell_type": "code",
   "execution_count": 11,
   "id": "cb5d3483",
   "metadata": {},
   "outputs": [],
   "source": [
    "#  получаем данные таблицы \n",
    "\n",
    "query = '''\n",
    "        SELECT * FROM reviews\n",
    "\n",
    "        '''\n",
    "\n",
    "# подключение к базе данных для sqlite\n",
    "review= pd.io.sql.read_sql( query, con = engine)"
   ]
  },
  {
   "cell_type": "code",
   "execution_count": 12,
   "id": "1329d9e0",
   "metadata": {},
   "outputs": [
    {
     "name": "stdout",
     "output_type": "stream",
     "text": [
      "<class 'pandas.core.frame.DataFrame'>\n",
      "RangeIndex: 2793 entries, 0 to 2792\n",
      "Data columns (total 4 columns):\n",
      " #   Column     Non-Null Count  Dtype \n",
      "---  ------     --------------  ----- \n",
      " 0   review_id  2793 non-null   int64 \n",
      " 1   book_id    2793 non-null   int64 \n",
      " 2   username   2793 non-null   object\n",
      " 3   text       2793 non-null   object\n",
      "dtypes: int64(2), object(2)\n",
      "memory usage: 87.4+ KB\n"
     ]
    }
   ],
   "source": [
    "# проверим размерность и пропуски в таблице\n",
    "review.info()"
   ]
  },
  {
   "cell_type": "markdown",
   "id": "c04d0539",
   "metadata": {},
   "source": [
    "В таблице 2793 строк, пропусков не выявлено"
   ]
  },
  {
   "cell_type": "code",
   "execution_count": 13,
   "id": "3b0017a9",
   "metadata": {},
   "outputs": [],
   "source": [
    "def table (df):\n",
    "    '''Функция по основной информации, пропускам, дубликатам в таблице\n",
    "    '''\n",
    "    print ('\\n Основная информация по таблице \\n')\n",
    "    print (df.info())\n",
    "    print('Наличие дубликатов {} \\n '.format(df.duplicated().sum()))\n",
    "    print('Наличие пропусков в таблице \\n')\n",
    "    print ((df.isna().sum()))"
   ]
  },
  {
   "cell_type": "code",
   "execution_count": null,
   "id": "a8b534b3",
   "metadata": {},
   "outputs": [],
   "source": [
    "#код ревьюера\n",
    "#tables = ['table_1', 'table_2', 'table_3']\n",
    "#\n",
    "#for table_name in tables:\n",
    "#    query = f'SELECT * FROM {table_name}'\n",
    "#    table(pd.io.sql.read_sql(query, con = engine))"
   ]
  },
  {
   "cell_type": "code",
   "execution_count": 14,
   "id": "7c71e830",
   "metadata": {},
   "outputs": [
    {
     "name": "stdout",
     "output_type": "stream",
     "text": [
      "\n",
      " Основная информация по таблице \n",
      "\n",
      "<class 'pandas.core.frame.DataFrame'>\n",
      "RangeIndex: 1000 entries, 0 to 999\n",
      "Data columns (total 6 columns):\n",
      " #   Column            Non-Null Count  Dtype \n",
      "---  ------            --------------  ----- \n",
      " 0   book_id           1000 non-null   int64 \n",
      " 1   author_id         1000 non-null   int64 \n",
      " 2   title             1000 non-null   object\n",
      " 3   num_pages         1000 non-null   int64 \n",
      " 4   publication_date  1000 non-null   object\n",
      " 5   publisher_id      1000 non-null   int64 \n",
      "dtypes: int64(4), object(2)\n",
      "memory usage: 47.0+ KB\n",
      "None\n",
      "Наличие дубликатов 0 \n",
      " \n",
      "Наличие пропусков в таблице \n",
      "\n",
      "book_id             0\n",
      "author_id           0\n",
      "title               0\n",
      "num_pages           0\n",
      "publication_date    0\n",
      "publisher_id        0\n",
      "dtype: int64\n"
     ]
    }
   ],
   "source": [
    "table(books)"
   ]
  },
  {
   "cell_type": "code",
   "execution_count": 15,
   "id": "8deb38fb",
   "metadata": {},
   "outputs": [
    {
     "name": "stdout",
     "output_type": "stream",
     "text": [
      "\n",
      " Основная информация по таблице \n",
      "\n",
      "<class 'pandas.core.frame.DataFrame'>\n",
      "RangeIndex: 636 entries, 0 to 635\n",
      "Data columns (total 2 columns):\n",
      " #   Column     Non-Null Count  Dtype \n",
      "---  ------     --------------  ----- \n",
      " 0   author_id  636 non-null    int64 \n",
      " 1   author     636 non-null    object\n",
      "dtypes: int64(1), object(1)\n",
      "memory usage: 10.1+ KB\n",
      "None\n",
      "Наличие дубликатов 0 \n",
      " \n",
      "Наличие пропусков в таблице \n",
      "\n",
      "author_id    0\n",
      "author       0\n",
      "dtype: int64\n"
     ]
    }
   ],
   "source": [
    "table(authors)"
   ]
  },
  {
   "cell_type": "code",
   "execution_count": 16,
   "id": "836f8e24",
   "metadata": {},
   "outputs": [
    {
     "name": "stdout",
     "output_type": "stream",
     "text": [
      "\n",
      " Основная информация по таблице \n",
      "\n",
      "<class 'pandas.core.frame.DataFrame'>\n",
      "RangeIndex: 2793 entries, 0 to 2792\n",
      "Data columns (total 4 columns):\n",
      " #   Column     Non-Null Count  Dtype \n",
      "---  ------     --------------  ----- \n",
      " 0   review_id  2793 non-null   int64 \n",
      " 1   book_id    2793 non-null   int64 \n",
      " 2   username   2793 non-null   object\n",
      " 3   text       2793 non-null   object\n",
      "dtypes: int64(2), object(2)\n",
      "memory usage: 87.4+ KB\n",
      "None\n",
      "Наличие дубликатов 0 \n",
      " \n",
      "Наличие пропусков в таблице \n",
      "\n",
      "review_id    0\n",
      "book_id      0\n",
      "username     0\n",
      "text         0\n",
      "dtype: int64\n"
     ]
    }
   ],
   "source": [
    "table(review)"
   ]
  },
  {
   "cell_type": "code",
   "execution_count": 17,
   "id": "f9ece584",
   "metadata": {},
   "outputs": [
    {
     "name": "stdout",
     "output_type": "stream",
     "text": [
      "\n",
      " Основная информация по таблице \n",
      "\n",
      "<class 'pandas.core.frame.DataFrame'>\n",
      "RangeIndex: 6456 entries, 0 to 6455\n",
      "Data columns (total 4 columns):\n",
      " #   Column     Non-Null Count  Dtype \n",
      "---  ------     --------------  ----- \n",
      " 0   rating_id  6456 non-null   int64 \n",
      " 1   book_id    6456 non-null   int64 \n",
      " 2   username   6456 non-null   object\n",
      " 3   rating     6456 non-null   int64 \n",
      "dtypes: int64(3), object(1)\n",
      "memory usage: 201.9+ KB\n",
      "None\n",
      "Наличие дубликатов 0 \n",
      " \n",
      "Наличие пропусков в таблице \n",
      "\n",
      "rating_id    0\n",
      "book_id      0\n",
      "username     0\n",
      "rating       0\n",
      "dtype: int64\n"
     ]
    }
   ],
   "source": [
    "table(rating)"
   ]
  },
  {
   "cell_type": "code",
   "execution_count": 18,
   "id": "7ee7c33b",
   "metadata": {},
   "outputs": [
    {
     "name": "stdout",
     "output_type": "stream",
     "text": [
      "\n",
      " Основная информация по таблице \n",
      "\n",
      "<class 'pandas.core.frame.DataFrame'>\n",
      "RangeIndex: 340 entries, 0 to 339\n",
      "Data columns (total 2 columns):\n",
      " #   Column        Non-Null Count  Dtype \n",
      "---  ------        --------------  ----- \n",
      " 0   publisher_id  340 non-null    int64 \n",
      " 1   publisher     340 non-null    object\n",
      "dtypes: int64(1), object(1)\n",
      "memory usage: 5.4+ KB\n",
      "None\n",
      "Наличие дубликатов 0 \n",
      " \n",
      "Наличие пропусков в таблице \n",
      "\n",
      "publisher_id    0\n",
      "publisher       0\n",
      "dtype: int64\n"
     ]
    }
   ],
   "source": [
    "table(publishers)"
   ]
  },
  {
   "cell_type": "markdown",
   "id": "8c7ec29b",
   "metadata": {},
   "source": [
    "## Посчитайте, сколько книг вышло после 1 января 2000 года\n"
   ]
  },
  {
   "cell_type": "code",
   "execution_count": 19,
   "id": "681ddf1e",
   "metadata": {},
   "outputs": [
    {
     "data": {
      "text/html": [
       "<div>\n",
       "<style scoped>\n",
       "    .dataframe tbody tr th:only-of-type {\n",
       "        vertical-align: middle;\n",
       "    }\n",
       "\n",
       "    .dataframe tbody tr th {\n",
       "        vertical-align: top;\n",
       "    }\n",
       "\n",
       "    .dataframe thead th {\n",
       "        text-align: right;\n",
       "    }\n",
       "</style>\n",
       "<table border=\"1\" class=\"dataframe\">\n",
       "  <thead>\n",
       "    <tr style=\"text-align: right;\">\n",
       "      <th></th>\n",
       "      <th>cnt_book</th>\n",
       "    </tr>\n",
       "  </thead>\n",
       "  <tbody>\n",
       "    <tr>\n",
       "      <th>0</th>\n",
       "      <td>821</td>\n",
       "    </tr>\n",
       "  </tbody>\n",
       "</table>\n",
       "</div>"
      ],
      "text/plain": [
       "   cnt_book\n",
       "0       821"
      ]
     },
     "execution_count": 19,
     "metadata": {},
     "output_type": "execute_result"
    }
   ],
   "source": [
    "query = '''\n",
    "        SELECT \n",
    "        COUNT(book_id) as cnt_book ----количество книг\n",
    "        FROM books\n",
    "        WHERE publication_date>='2000-01-01'\n",
    "        '''\n",
    "pd.read_sql(query, con = engine)"
   ]
  },
  {
   "cell_type": "markdown",
   "id": "49abccb6",
   "metadata": {},
   "source": [
    " 821 книга была опубликована после 1 января"
   ]
  },
  {
   "cell_type": "markdown",
   "id": "bbeee918",
   "metadata": {},
   "source": [
    "## Для каждой книги посчитайте количество обзоров и среднюю оценку;\n"
   ]
  },
  {
   "cell_type": "code",
   "execution_count": 20,
   "id": "85b424bb",
   "metadata": {},
   "outputs": [
    {
     "data": {
      "text/html": [
       "<div>\n",
       "<style scoped>\n",
       "    .dataframe tbody tr th:only-of-type {\n",
       "        vertical-align: middle;\n",
       "    }\n",
       "\n",
       "    .dataframe tbody tr th {\n",
       "        vertical-align: top;\n",
       "    }\n",
       "\n",
       "    .dataframe thead th {\n",
       "        text-align: right;\n",
       "    }\n",
       "</style>\n",
       "<table border=\"1\" class=\"dataframe\">\n",
       "  <thead>\n",
       "    <tr style=\"text-align: right;\">\n",
       "      <th></th>\n",
       "      <th>book_id</th>\n",
       "      <th>title</th>\n",
       "      <th>cnt_rev</th>\n",
       "      <th>avg_rating</th>\n",
       "    </tr>\n",
       "  </thead>\n",
       "  <tbody>\n",
       "    <tr>\n",
       "      <th>0</th>\n",
       "      <td>948</td>\n",
       "      <td>Twilight (Twilight  #1)</td>\n",
       "      <td>7</td>\n",
       "      <td>3.662500</td>\n",
       "    </tr>\n",
       "    <tr>\n",
       "      <th>1</th>\n",
       "      <td>963</td>\n",
       "      <td>Water for Elephants</td>\n",
       "      <td>6</td>\n",
       "      <td>3.977273</td>\n",
       "    </tr>\n",
       "    <tr>\n",
       "      <th>2</th>\n",
       "      <td>734</td>\n",
       "      <td>The Glass Castle</td>\n",
       "      <td>6</td>\n",
       "      <td>4.206897</td>\n",
       "    </tr>\n",
       "    <tr>\n",
       "      <th>3</th>\n",
       "      <td>302</td>\n",
       "      <td>Harry Potter and the Prisoner of Azkaban (Harr...</td>\n",
       "      <td>6</td>\n",
       "      <td>4.414634</td>\n",
       "    </tr>\n",
       "    <tr>\n",
       "      <th>4</th>\n",
       "      <td>695</td>\n",
       "      <td>The Curious Incident of the Dog in the Night-Time</td>\n",
       "      <td>6</td>\n",
       "      <td>4.081081</td>\n",
       "    </tr>\n",
       "    <tr>\n",
       "      <th>...</th>\n",
       "      <td>...</td>\n",
       "      <td>...</td>\n",
       "      <td>...</td>\n",
       "      <td>...</td>\n",
       "    </tr>\n",
       "    <tr>\n",
       "      <th>995</th>\n",
       "      <td>83</td>\n",
       "      <td>Anne Rice's The Vampire Lestat: A Graphic Novel</td>\n",
       "      <td>0</td>\n",
       "      <td>3.666667</td>\n",
       "    </tr>\n",
       "    <tr>\n",
       "      <th>996</th>\n",
       "      <td>808</td>\n",
       "      <td>The Natural Way to Draw</td>\n",
       "      <td>0</td>\n",
       "      <td>3.000000</td>\n",
       "    </tr>\n",
       "    <tr>\n",
       "      <th>997</th>\n",
       "      <td>672</td>\n",
       "      <td>The Cat in the Hat and Other Dr. Seuss Favorites</td>\n",
       "      <td>0</td>\n",
       "      <td>5.000000</td>\n",
       "    </tr>\n",
       "    <tr>\n",
       "      <th>998</th>\n",
       "      <td>221</td>\n",
       "      <td>Essential Tales and Poems</td>\n",
       "      <td>0</td>\n",
       "      <td>4.000000</td>\n",
       "    </tr>\n",
       "    <tr>\n",
       "      <th>999</th>\n",
       "      <td>191</td>\n",
       "      <td>Disney's Beauty and the Beast (A Little Golden...</td>\n",
       "      <td>0</td>\n",
       "      <td>4.000000</td>\n",
       "    </tr>\n",
       "  </tbody>\n",
       "</table>\n",
       "<p>1000 rows × 4 columns</p>\n",
       "</div>"
      ],
      "text/plain": [
       "     book_id                                              title  cnt_rev  \\\n",
       "0        948                            Twilight (Twilight  #1)        7   \n",
       "1        963                                Water for Elephants        6   \n",
       "2        734                                   The Glass Castle        6   \n",
       "3        302  Harry Potter and the Prisoner of Azkaban (Harr...        6   \n",
       "4        695  The Curious Incident of the Dog in the Night-Time        6   \n",
       "..       ...                                                ...      ...   \n",
       "995       83    Anne Rice's The Vampire Lestat: A Graphic Novel        0   \n",
       "996      808                            The Natural Way to Draw        0   \n",
       "997      672   The Cat in the Hat and Other Dr. Seuss Favorites        0   \n",
       "998      221                          Essential Tales and Poems        0   \n",
       "999      191  Disney's Beauty and the Beast (A Little Golden...        0   \n",
       "\n",
       "     avg_rating  \n",
       "0      3.662500  \n",
       "1      3.977273  \n",
       "2      4.206897  \n",
       "3      4.414634  \n",
       "4      4.081081  \n",
       "..          ...  \n",
       "995    3.666667  \n",
       "996    3.000000  \n",
       "997    5.000000  \n",
       "998    4.000000  \n",
       "999    4.000000  \n",
       "\n",
       "[1000 rows x 4 columns]"
      ]
     },
     "execution_count": 20,
     "metadata": {},
     "output_type": "execute_result"
    }
   ],
   "source": [
    "query = '''\n",
    "    SELECT b.book_id, b.title, ---- индификатор книги и название\n",
    "    COUNT(DISTINCT r.review_id) as cnt_rev, ----количество обзоров\n",
    "    AVG(rt.rating) as avg_rating\n",
    "    FROM BOOKS b \n",
    "        LEFT JOIN ratings rt ON rt.book_id=b.book_id \n",
    "        LEFT JOIN reviews r ON r.book_id=rt.book_id\n",
    "    GROUP BY b.book_id\n",
    "    ORDER BY cnt_rev DESC\n",
    "    '''\n",
    "pd.read_sql(query, con = engine)"
   ]
  },
  {
   "cell_type": "markdown",
   "id": "7ad521f4",
   "metadata": {},
   "source": [
    "Больше всего обзоров у книги Twilight  - 7 обзоров"
   ]
  },
  {
   "cell_type": "markdown",
   "id": "688c4535",
   "metadata": {},
   "source": [
    "## Определите издательство, которое выпустило наибольшее число книг толще50 страниц — так вы исключите из анализа брошюры"
   ]
  },
  {
   "cell_type": "code",
   "execution_count": 21,
   "id": "3d34ab62",
   "metadata": {},
   "outputs": [
    {
     "data": {
      "text/html": [
       "<div>\n",
       "<style scoped>\n",
       "    .dataframe tbody tr th:only-of-type {\n",
       "        vertical-align: middle;\n",
       "    }\n",
       "\n",
       "    .dataframe tbody tr th {\n",
       "        vertical-align: top;\n",
       "    }\n",
       "\n",
       "    .dataframe thead th {\n",
       "        text-align: right;\n",
       "    }\n",
       "</style>\n",
       "<table border=\"1\" class=\"dataframe\">\n",
       "  <thead>\n",
       "    <tr style=\"text-align: right;\">\n",
       "      <th></th>\n",
       "      <th>publisher</th>\n",
       "      <th>cnt_book</th>\n",
       "    </tr>\n",
       "  </thead>\n",
       "  <tbody>\n",
       "    <tr>\n",
       "      <th>0</th>\n",
       "      <td>Penguin Books</td>\n",
       "      <td>42</td>\n",
       "    </tr>\n",
       "  </tbody>\n",
       "</table>\n",
       "</div>"
      ],
      "text/plain": [
       "       publisher  cnt_book\n",
       "0  Penguin Books        42"
      ]
     },
     "execution_count": 21,
     "metadata": {},
     "output_type": "execute_result"
    }
   ],
   "source": [
    "query = '''\n",
    "        SELECT p.publisher, ---- название издательства \n",
    "        COUNT (b.book_id) as cnt_book --- количество книг \n",
    "        FROM books b \n",
    "            LEFT JOIN  publishers p ON b.publisher_id=p.publisher_id \n",
    "        WHERE b.num_pages>50   \n",
    "        GROUP BY p.publisher\n",
    "        ORDER BY cnt_book DESC\n",
    "        LIMIT 1\n",
    "    '''\n",
    "pd.read_sql(query, con = engine)"
   ]
  },
  {
   "cell_type": "markdown",
   "id": "45546c7d",
   "metadata": {},
   "source": [
    "Больше всего книг у издательства Penguin Books"
   ]
  },
  {
   "cell_type": "markdown",
   "id": "342ffa1a",
   "metadata": {},
   "source": [
    "## Определите автора с самой высокой средней оценкой книг — учитывайте только книги с 50 и более оценками"
   ]
  },
  {
   "cell_type": "code",
   "execution_count": 22,
   "id": "82d2b737",
   "metadata": {},
   "outputs": [
    {
     "data": {
      "text/html": [
       "<div>\n",
       "<style scoped>\n",
       "    .dataframe tbody tr th:only-of-type {\n",
       "        vertical-align: middle;\n",
       "    }\n",
       "\n",
       "    .dataframe tbody tr th {\n",
       "        vertical-align: top;\n",
       "    }\n",
       "\n",
       "    .dataframe thead th {\n",
       "        text-align: right;\n",
       "    }\n",
       "</style>\n",
       "<table border=\"1\" class=\"dataframe\">\n",
       "  <thead>\n",
       "    <tr style=\"text-align: right;\">\n",
       "      <th></th>\n",
       "      <th>author</th>\n",
       "      <th>avg_rating</th>\n",
       "    </tr>\n",
       "  </thead>\n",
       "  <tbody>\n",
       "    <tr>\n",
       "      <th>0</th>\n",
       "      <td>J.K. Rowling/Mary GrandPré</td>\n",
       "      <td>4.287097</td>\n",
       "    </tr>\n",
       "    <tr>\n",
       "      <th>1</th>\n",
       "      <td>Markus Zusak/Cao Xuân Việt Khương</td>\n",
       "      <td>4.264151</td>\n",
       "    </tr>\n",
       "    <tr>\n",
       "      <th>2</th>\n",
       "      <td>J.R.R. Tolkien</td>\n",
       "      <td>4.246914</td>\n",
       "    </tr>\n",
       "    <tr>\n",
       "      <th>3</th>\n",
       "      <td>Louisa May Alcott</td>\n",
       "      <td>4.192308</td>\n",
       "    </tr>\n",
       "    <tr>\n",
       "      <th>4</th>\n",
       "      <td>Rick Riordan</td>\n",
       "      <td>4.080645</td>\n",
       "    </tr>\n",
       "  </tbody>\n",
       "</table>\n",
       "</div>"
      ],
      "text/plain": [
       "                              author  avg_rating\n",
       "0         J.K. Rowling/Mary GrandPré    4.287097\n",
       "1  Markus Zusak/Cao Xuân Việt Khương    4.264151\n",
       "2                     J.R.R. Tolkien    4.246914\n",
       "3                  Louisa May Alcott    4.192308\n",
       "4                       Rick Riordan    4.080645"
      ]
     },
     "execution_count": 22,
     "metadata": {},
     "output_type": "execute_result"
    }
   ],
   "source": [
    "query  = '''\n",
    "        SELECT a.author,             ---- название автора\n",
    "        AVG(rt.rating) AS avg_rating ----cредний рейтинг\n",
    "        FROM \n",
    "         books b\n",
    "        LEFT JOIN authors a ON b.author_id = a.author_id\n",
    "        LEFT JOIN ratings rt ON rt.book_id = b.book_id\n",
    "        WHERE b.book_id IN (\n",
    "            SELECT b.book_id FROM books b    \n",
    "                LEFT JOIN ratings rt ON rt.book_id = b.book_id     \n",
    "                     GROUP BY\n",
    "                          b.book_id\n",
    "                     HAVING \n",
    "                          COUNT(rt.rating_id) >= 50\n",
    "                      )\n",
    "                 GROUP BY\n",
    "                    a.author  \n",
    "                 ORDER BY \n",
    "                    avg_rating DESC\n",
    "                 LIMIT 5    \n",
    "       '''\n",
    "pd.read_sql(query, con = engine)\n",
    "\n"
   ]
  },
  {
   "cell_type": "markdown",
   "id": "c878ebdc",
   "metadata": {},
   "source": [
    "J.K. Rowling/Mary GrandPré - автор с самой высокой средней оценкой "
   ]
  },
  {
   "cell_type": "markdown",
   "id": "318cc8d2",
   "metadata": {},
   "source": [
    "## Посчитайте среднее количество обзоров от пользователей, которые поставили больше 50 оценок"
   ]
  },
  {
   "cell_type": "code",
   "execution_count": 23,
   "id": "89c7c96a",
   "metadata": {},
   "outputs": [
    {
     "data": {
      "text/html": [
       "<div>\n",
       "<style scoped>\n",
       "    .dataframe tbody tr th:only-of-type {\n",
       "        vertical-align: middle;\n",
       "    }\n",
       "\n",
       "    .dataframe tbody tr th {\n",
       "        vertical-align: top;\n",
       "    }\n",
       "\n",
       "    .dataframe thead th {\n",
       "        text-align: right;\n",
       "    }\n",
       "</style>\n",
       "<table border=\"1\" class=\"dataframe\">\n",
       "  <thead>\n",
       "    <tr style=\"text-align: right;\">\n",
       "      <th></th>\n",
       "      <th>avg_cnt_reviews</th>\n",
       "    </tr>\n",
       "  </thead>\n",
       "  <tbody>\n",
       "    <tr>\n",
       "      <th>0</th>\n",
       "      <td>24.0</td>\n",
       "    </tr>\n",
       "  </tbody>\n",
       "</table>\n",
       "</div>"
      ],
      "text/plain": [
       "   avg_cnt_reviews\n",
       "0             24.0"
      ]
     },
     "execution_count": 23,
     "metadata": {},
     "output_type": "execute_result"
    }
   ],
   "source": [
    "query = '''\n",
    "     SELECT SUM(a.cnt) / COUNT(a.username) AS avg_cnt_reviews\n",
    "     FROM\n",
    "        (SELECT r.username,\n",
    "            COUNT(r.review_id) AS cnt ---- количество оценок \n",
    "                FROM\n",
    "                    reviews r \n",
    "                WHERE r.username IN  (SELECT rt.username FROM ratings rt\n",
    "                     LEFT JOIN books b ON b.book_id = rt.book_id\n",
    "                     GROUP BY\n",
    "                         rt.username\n",
    "                     HAVING\n",
    "                         COUNT(rt.rating_id) > 50)\n",
    "                GROUP BY r.username) AS a\n",
    "\n",
    "       '''\n",
    "pd.read_sql(query, con = engine).round()"
   ]
  },
  {
   "cell_type": "markdown",
   "id": "61a29cbf",
   "metadata": {},
   "source": [
    " Среднее количество обзоров на пользователя с более чем 50 оценками - 24"
   ]
  },
  {
   "cell_type": "markdown",
   "id": "d16ebb6d",
   "metadata": {},
   "source": [
    "\n",
    "## Общий вывод:\n",
    "\n",
    "    Больше всего обзоров у книги Twilight - 7 обзоров\n",
    "    Самый рейтинговый писатель - J.K. Rowling/Mary GrandPré.\n",
    "    Лидирующее издательство по выпуску книг - Penguin Books\n",
    "    Среднее количество обзоров на пользователя с более чем 50 оценками - 24\n",
    "\n"
   ]
  }
 ],
 "metadata": {
  "ExecuteTimeLog": [
   {
    "duration": 514,
    "start_time": "2022-07-01T17:18:35.092Z"
   },
   {
    "duration": 5566,
    "start_time": "2022-07-01T17:18:41.845Z"
   },
   {
    "duration": 252,
    "start_time": "2022-07-01T17:19:29.204Z"
   },
   {
    "duration": 79,
    "start_time": "2022-07-01T17:19:33.055Z"
   },
   {
    "duration": 69,
    "start_time": "2022-07-01T17:19:36.084Z"
   },
   {
    "duration": 119,
    "start_time": "2022-07-01T17:19:39.145Z"
   },
   {
    "duration": 107,
    "start_time": "2022-07-01T17:19:42.638Z"
   },
   {
    "duration": 120,
    "start_time": "2022-07-01T17:20:58.118Z"
   },
   {
    "duration": 19,
    "start_time": "2022-07-01T17:21:23.203Z"
   },
   {
    "duration": 27,
    "start_time": "2022-07-01T17:22:13.543Z"
   },
   {
    "duration": 22,
    "start_time": "2022-07-01T17:22:22.710Z"
   },
   {
    "duration": 19,
    "start_time": "2022-07-01T17:22:34.794Z"
   },
   {
    "duration": 21,
    "start_time": "2022-07-01T17:22:38.126Z"
   },
   {
    "duration": 24,
    "start_time": "2022-07-01T17:23:09.558Z"
   },
   {
    "duration": 25,
    "start_time": "2022-07-01T17:23:47.666Z"
   },
   {
    "duration": 22,
    "start_time": "2022-07-01T17:23:53.251Z"
   },
   {
    "duration": 22,
    "start_time": "2022-07-01T17:24:04.401Z"
   },
   {
    "duration": 19,
    "start_time": "2022-07-01T17:25:04.175Z"
   },
   {
    "duration": 29,
    "start_time": "2022-07-01T17:26:45.248Z"
   },
   {
    "duration": 23,
    "start_time": "2022-07-01T17:27:11.185Z"
   },
   {
    "duration": 25,
    "start_time": "2022-07-01T17:27:34.824Z"
   },
   {
    "duration": 30,
    "start_time": "2022-07-01T17:27:48.897Z"
   },
   {
    "duration": 25,
    "start_time": "2022-07-01T17:27:55.652Z"
   },
   {
    "duration": 27,
    "start_time": "2022-07-01T17:28:10.913Z"
   },
   {
    "duration": 61,
    "start_time": "2022-07-01T17:29:01.076Z"
   },
   {
    "duration": 75,
    "start_time": "2022-07-01T17:32:47.979Z"
   },
   {
    "duration": 62,
    "start_time": "2022-07-01T17:33:14.521Z"
   },
   {
    "duration": 81,
    "start_time": "2022-07-01T17:33:54.000Z"
   },
   {
    "duration": 4,
    "start_time": "2022-07-01T17:35:00.923Z"
   },
   {
    "duration": 75,
    "start_time": "2022-07-01T17:35:12.127Z"
   },
   {
    "duration": 6,
    "start_time": "2022-07-01T17:35:26.386Z"
   },
   {
    "duration": 66,
    "start_time": "2022-07-01T17:35:44.288Z"
   },
   {
    "duration": 65,
    "start_time": "2022-07-01T17:35:50.296Z"
   },
   {
    "duration": 65,
    "start_time": "2022-07-01T17:36:04.198Z"
   },
   {
    "duration": 81,
    "start_time": "2022-07-01T17:36:08.931Z"
   },
   {
    "duration": 60,
    "start_time": "2022-07-01T17:36:19.938Z"
   },
   {
    "duration": 8,
    "start_time": "2022-07-01T17:36:47.131Z"
   },
   {
    "duration": 20,
    "start_time": "2022-07-01T17:37:03.143Z"
   },
   {
    "duration": 56,
    "start_time": "2022-07-01T17:38:30.789Z"
   },
   {
    "duration": 23,
    "start_time": "2022-07-01T17:38:34.245Z"
   },
   {
    "duration": 10,
    "start_time": "2022-07-01T17:38:44.884Z"
   },
   {
    "duration": 4,
    "start_time": "2022-07-01T17:39:03.019Z"
   },
   {
    "duration": 56,
    "start_time": "2022-07-01T17:39:34.773Z"
   },
   {
    "duration": 17,
    "start_time": "2022-07-01T17:39:41.225Z"
   },
   {
    "duration": 23,
    "start_time": "2022-07-01T17:40:03.428Z"
   },
   {
    "duration": 2,
    "start_time": "2022-07-01T17:41:09.091Z"
   },
   {
    "duration": 6,
    "start_time": "2022-07-01T17:41:10.093Z"
   },
   {
    "duration": 258,
    "start_time": "2022-07-01T17:41:15.076Z"
   },
   {
    "duration": 4,
    "start_time": "2022-07-01T17:43:57.515Z"
   },
   {
    "duration": 44,
    "start_time": "2022-07-01T17:44:11.476Z"
   },
   {
    "duration": 35,
    "start_time": "2022-07-01T17:44:32.895Z"
   },
   {
    "duration": 40,
    "start_time": "2022-07-01T17:44:44.983Z"
   },
   {
    "duration": 33,
    "start_time": "2022-07-01T17:44:56.897Z"
   },
   {
    "duration": 67,
    "start_time": "2022-07-01T17:45:30.651Z"
   },
   {
    "duration": 45,
    "start_time": "2022-07-01T17:45:33.875Z"
   },
   {
    "duration": 51,
    "start_time": "2022-07-01T17:46:17.913Z"
   },
   {
    "duration": 8,
    "start_time": "2022-07-01T17:46:23.637Z"
   },
   {
    "duration": 12,
    "start_time": "2022-07-01T17:46:30.194Z"
   },
   {
    "duration": 42,
    "start_time": "2022-07-01T17:47:07.712Z"
   },
   {
    "duration": 33,
    "start_time": "2022-07-01T17:47:34.059Z"
   },
   {
    "duration": 40,
    "start_time": "2022-07-01T17:47:42.395Z"
   },
   {
    "duration": 42,
    "start_time": "2022-07-01T17:48:46.585Z"
   },
   {
    "duration": 55,
    "start_time": "2022-07-01T17:49:13.880Z"
   },
   {
    "duration": 45,
    "start_time": "2022-07-01T17:49:23.484Z"
   },
   {
    "duration": 41,
    "start_time": "2022-07-01T17:49:40.260Z"
   },
   {
    "duration": 41,
    "start_time": "2022-07-01T17:49:58.446Z"
   },
   {
    "duration": 52,
    "start_time": "2022-07-01T17:51:21.869Z"
   },
   {
    "duration": 48,
    "start_time": "2022-07-01T17:51:30.149Z"
   },
   {
    "duration": 47,
    "start_time": "2022-07-01T17:51:42.039Z"
   },
   {
    "duration": 16,
    "start_time": "2022-07-01T17:52:42.988Z"
   },
   {
    "duration": 63,
    "start_time": "2022-07-01T17:52:46.508Z"
   },
   {
    "duration": 4,
    "start_time": "2022-07-01T17:54:06.461Z"
   },
   {
    "duration": 14,
    "start_time": "2022-07-01T17:54:19.601Z"
   },
   {
    "duration": 5,
    "start_time": "2022-07-01T17:54:42.849Z"
   },
   {
    "duration": 29,
    "start_time": "2022-07-01T17:54:43.819Z"
   },
   {
    "duration": 3,
    "start_time": "2022-07-01T17:54:48.642Z"
   },
   {
    "duration": 13,
    "start_time": "2022-07-01T17:54:54.068Z"
   },
   {
    "duration": 55,
    "start_time": "2022-07-01T17:55:54.285Z"
   },
   {
    "duration": 13,
    "start_time": "2022-07-01T17:55:55.291Z"
   },
   {
    "duration": 5,
    "start_time": "2022-07-01T17:56:12.027Z"
   },
   {
    "duration": 17,
    "start_time": "2022-07-01T17:56:13.025Z"
   },
   {
    "duration": 3,
    "start_time": "2022-07-01T17:56:19.676Z"
   },
   {
    "duration": 14,
    "start_time": "2022-07-01T17:56:21.276Z"
   },
   {
    "duration": 4,
    "start_time": "2022-07-01T17:57:15.744Z"
   },
   {
    "duration": 8,
    "start_time": "2022-07-01T17:57:56.927Z"
   },
   {
    "duration": 15,
    "start_time": "2022-07-01T17:58:12.076Z"
   },
   {
    "duration": 12,
    "start_time": "2022-07-01T17:58:27.986Z"
   },
   {
    "duration": 20,
    "start_time": "2022-07-01T17:59:09.705Z"
   },
   {
    "duration": 15,
    "start_time": "2022-07-01T17:59:30.889Z"
   },
   {
    "duration": 12,
    "start_time": "2022-07-01T17:59:57.783Z"
   },
   {
    "duration": 54,
    "start_time": "2022-07-01T18:01:38.939Z"
   },
   {
    "duration": 589,
    "start_time": "2022-07-01T18:02:35.998Z"
   },
   {
    "duration": 7980,
    "start_time": "2022-07-01T18:02:36.589Z"
   },
   {
    "duration": 279,
    "start_time": "2022-07-01T18:02:44.571Z"
   },
   {
    "duration": 12,
    "start_time": "2022-07-01T18:02:44.851Z"
   },
   {
    "duration": 91,
    "start_time": "2022-07-01T18:02:44.866Z"
   },
   {
    "duration": 10,
    "start_time": "2022-07-01T18:02:44.958Z"
   },
   {
    "duration": 86,
    "start_time": "2022-07-01T18:02:44.969Z"
   },
   {
    "duration": 11,
    "start_time": "2022-07-01T18:02:45.057Z"
   },
   {
    "duration": 107,
    "start_time": "2022-07-01T18:02:45.070Z"
   },
   {
    "duration": 10,
    "start_time": "2022-07-01T18:02:45.180Z"
   },
   {
    "duration": 94,
    "start_time": "2022-07-01T18:02:45.192Z"
   },
   {
    "duration": 10,
    "start_time": "2022-07-01T18:02:45.288Z"
   },
   {
    "duration": 7,
    "start_time": "2022-07-01T18:02:45.300Z"
   },
   {
    "duration": 14,
    "start_time": "2022-07-01T18:02:45.310Z"
   },
   {
    "duration": 18,
    "start_time": "2022-07-01T18:02:45.326Z"
   },
   {
    "duration": 22,
    "start_time": "2022-07-01T18:02:45.346Z"
   },
   {
    "duration": 15,
    "start_time": "2022-07-01T18:02:45.370Z"
   },
   {
    "duration": 14,
    "start_time": "2022-07-01T18:02:45.386Z"
   },
   {
    "duration": 77,
    "start_time": "2022-07-01T18:02:45.401Z"
   },
   {
    "duration": 93,
    "start_time": "2022-07-01T18:02:45.479Z"
   },
   {
    "duration": 83,
    "start_time": "2022-07-01T18:02:45.574Z"
   },
   {
    "duration": 86,
    "start_time": "2022-07-01T18:02:45.659Z"
   },
   {
    "duration": 75,
    "start_time": "2022-07-01T18:02:45.746Z"
   },
   {
    "duration": 4,
    "start_time": "2022-07-01T18:06:36.336Z"
   },
   {
    "duration": 21,
    "start_time": "2022-07-01T18:06:41.320Z"
   },
   {
    "duration": 538,
    "start_time": "2022-07-01T18:07:02.444Z"
   },
   {
    "duration": 6706,
    "start_time": "2022-07-01T18:07:02.985Z"
   },
   {
    "duration": 271,
    "start_time": "2022-07-01T18:07:09.692Z"
   },
   {
    "duration": 13,
    "start_time": "2022-07-01T18:07:09.965Z"
   },
   {
    "duration": 79,
    "start_time": "2022-07-01T18:07:09.980Z"
   },
   {
    "duration": 13,
    "start_time": "2022-07-01T18:07:10.061Z"
   },
   {
    "duration": 95,
    "start_time": "2022-07-01T18:07:10.076Z"
   },
   {
    "duration": 11,
    "start_time": "2022-07-01T18:07:10.173Z"
   },
   {
    "duration": 111,
    "start_time": "2022-07-01T18:07:10.186Z"
   },
   {
    "duration": 10,
    "start_time": "2022-07-01T18:07:10.299Z"
   },
   {
    "duration": 86,
    "start_time": "2022-07-01T18:07:10.311Z"
   },
   {
    "duration": 10,
    "start_time": "2022-07-01T18:07:10.399Z"
   },
   {
    "duration": 7,
    "start_time": "2022-07-01T18:07:10.411Z"
   },
   {
    "duration": 19,
    "start_time": "2022-07-01T18:07:10.421Z"
   },
   {
    "duration": 16,
    "start_time": "2022-07-01T18:07:10.443Z"
   },
   {
    "duration": 13,
    "start_time": "2022-07-01T18:07:10.461Z"
   },
   {
    "duration": 14,
    "start_time": "2022-07-01T18:07:10.476Z"
   },
   {
    "duration": 11,
    "start_time": "2022-07-01T18:07:10.492Z"
   },
   {
    "duration": 74,
    "start_time": "2022-07-01T18:07:10.527Z"
   },
   {
    "duration": 91,
    "start_time": "2022-07-01T18:07:10.602Z"
   },
   {
    "duration": 69,
    "start_time": "2022-07-01T18:07:10.695Z"
   },
   {
    "duration": 80,
    "start_time": "2022-07-01T18:07:10.765Z"
   },
   {
    "duration": 70,
    "start_time": "2022-07-01T18:07:10.846Z"
   }
  ],
  "kernelspec": {
   "display_name": "Python 3 (ipykernel)",
   "language": "python",
   "name": "python3"
  },
  "language_info": {
   "codemirror_mode": {
    "name": "ipython",
    "version": 3
   },
   "file_extension": ".py",
   "mimetype": "text/x-python",
   "name": "python",
   "nbconvert_exporter": "python",
   "pygments_lexer": "ipython3",
   "version": "3.9.7"
  },
  "toc": {
   "base_numbering": 1,
   "nav_menu": {},
   "number_sections": true,
   "sideBar": true,
   "skip_h1_title": true,
   "title_cell": "Table of Contents",
   "title_sidebar": "Contents",
   "toc_cell": true,
   "toc_position": {},
   "toc_section_display": true,
   "toc_window_display": false
  }
 },
 "nbformat": 4,
 "nbformat_minor": 5
}
